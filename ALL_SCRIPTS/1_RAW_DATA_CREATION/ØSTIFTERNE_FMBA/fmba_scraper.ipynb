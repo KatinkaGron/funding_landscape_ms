{
 "cells": [
  {
   "cell_type": "code",
   "execution_count": 10,
   "id": "6e0b83d2",
   "metadata": {},
   "outputs": [],
   "source": [
    "#Loading the single file from the FMBA data results. \n",
    "import pandas as pd\n",
    "file_name = (\"o_stiferne_2023.xlsx\")\n",
    "\n",
    "\n",
    "df = pd.read_excel(file_name, header=None, index_col = None, names = ([\"Receiver / Title\", \"Project Category\", \"Year\", \"Grant Size (DKK)\"]))\n",
    "df.to_csv(\"fmba.csv\", index = True)\n"
   ]
  }
 ],
 "metadata": {
  "kernelspec": {
   "display_name": "Python 3 (ipykernel)",
   "language": "python",
   "name": "python3"
  },
  "language_info": {
   "codemirror_mode": {
    "name": "ipython",
    "version": 3
   },
   "file_extension": ".py",
   "mimetype": "text/x-python",
   "name": "python",
   "nbconvert_exporter": "python",
   "pygments_lexer": "ipython3",
   "version": "3.9.12"
  }
 },
 "nbformat": 4,
 "nbformat_minor": 5
}
