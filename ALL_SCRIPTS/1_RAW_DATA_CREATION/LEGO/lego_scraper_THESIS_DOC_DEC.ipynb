{
 "cells": [
  {
   "cell_type": "code",
   "execution_count": 1,
   "id": "05c51b35",
   "metadata": {},
   "outputs": [],
   "source": [
    "#LEGO script combining all lego data into the file: total_lego_data.csv\n",
    "import pandas as pd\n",
    "import numpy as np\n",
    "import translators as ts\n",
    "import matplotlib.pyplot as plt\n",
    "\n",
    "\n",
    "df = pd.read_excel('legodata_final.xlsx', index_col=0)\n",
    "df = df.reset_index()\n",
    "df_lego_20_22 = df.iloc[:, 9:15]  #removing empty columns\n",
    "df_lego_20_22n = df_lego_20_22.drop(columns = [\"target\"])\n",
    "df_lego_20_22n = df_lego_20_22n.rename(columns={\"Grant Reciever\": \"Reciever\", \"Grant amount (in DKK thousand)\": \"Grant size (DKK)\", \"Descriptions\" : \"Description\"})\n",
    "df_lego_20_22n.head()\n",
    "\n",
    "\n",
    "\n",
    "#downloading 2023 lego results \n",
    "df_2023 = pd.read_csv('tabula-list-of-grantees-transformed2023.csv',sep=\";\", names = [\"mixed_info\", \"amount\"])\n",
    "df_2023.head()\n",
    "\n",
    "#dissecting pdf after tabula conversion\n",
    "\n",
    "reciever = []\n",
    "country = []\n",
    "dkk = []\n",
    "description = []\n",
    "\n",
    "for line_nu, i in enumerate(df_2023.mixed_info): \n",
    "    if line_nu % 2 == 0:\n",
    "        money = df_2023.amount[line_nu]\n",
    "        money = money.replace(\",\", \"\")\n",
    "        amount = int(money+\"000\")\n",
    "        dkk.append(amount)\n",
    "        strings = i.split(\" \")\n",
    "        if strings[-1].endswith(\")\") and strings[-1].startswith(\"(\"):\n",
    "            strings[-1] = strings[-1].replace(\")\", \"\")\n",
    "            strings[-1] = strings[-1].replace(\"(\", \"\")\n",
    "            country.append(strings[-1])\n",
    "            reciever.append(\" \".join(strings[0:-1]))\n",
    "        elif strings[-1].endswith(\")\") and strings[-2].startswith(\"(\"):\n",
    "            strings[-1] = strings[-1].replace(\")\", \"\")\n",
    "            strings[-2] = strings[-2].replace(\"(\", \"\")\n",
    "            country.append(strings[-2]+ \" \"+ strings[-1])\n",
    "            reciever.append(\" \".join(strings[0:-2]))\n",
    "    elif line_nu % 2 != 0:\n",
    "        description.append(i)\n",
    "dflego_2023 = pd.DataFrame(list(zip(reciever, country, description, dkk,)), columns=['Reciever','Country', 'Description', \"Grant size (DKK)\"])\n",
    "\n",
    "dflego_2023[\"Year\"] = 2023\n",
    "\n",
    "total_dataframe = pd.concat([df_lego_20_22n, dflego_2023], axis=0)\n",
    "len(total_dataframe)\n",
    "total_dataframe.to_csv('total_lego_data.csv', index=True, header=True, sep=';')\n"
   ]
  },
  {
   "cell_type": "code",
   "execution_count": 29,
   "id": "1fc3a414",
   "metadata": {},
   "outputs": [],
   "source": []
  },
  {
   "cell_type": "code",
   "execution_count": null,
   "id": "ec681f34",
   "metadata": {},
   "outputs": [],
   "source": []
  }
 ],
 "metadata": {
  "kernelspec": {
   "display_name": "Python 3 (ipykernel)",
   "language": "python",
   "name": "python3"
  },
  "language_info": {
   "codemirror_mode": {
    "name": "ipython",
    "version": 3
   },
   "file_extension": ".py",
   "mimetype": "text/x-python",
   "name": "python",
   "nbconvert_exporter": "python",
   "pygments_lexer": "ipython3",
   "version": "3.9.12"
  }
 },
 "nbformat": 4,
 "nbformat_minor": 5
}
