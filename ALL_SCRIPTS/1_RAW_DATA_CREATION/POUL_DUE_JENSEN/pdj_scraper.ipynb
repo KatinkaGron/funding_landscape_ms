{
 "cells": [
  {
   "cell_type": "code",
   "execution_count": 6,
   "id": "89762eb5",
   "metadata": {},
   "outputs": [],
   "source": [
    "#gather all data from Poul Due Jensens foundation from pdf documents converted to excel sheets found through https://www.pdjf.dk/donationsliste/\n",
    "\n",
    "import pandas as pd\n",
    "\n",
    "file_name = (\"PDJF_donations_alll.xlsx\")\n",
    "\n",
    "df = pd.read_excel(file_name, header=[0], index_col = None)\n",
    "\n",
    "df = df.iloc[0:533, 0:6]\n",
    "\n",
    "df[\"Grant Size (DKK)\"] = df[\"Grant Size (DKK)\"].round(0).astype(int)\n",
    "df[\"Year\"] = df[\"Year\"].round(0).astype(int)\n",
    "\n",
    "df.to_csv(\"poul_due_jensen2.csv\", index = True)"
   ]
  }
 ],
 "metadata": {
  "kernelspec": {
   "display_name": "Python 3 (ipykernel)",
   "language": "python",
   "name": "python3"
  },
  "language_info": {
   "codemirror_mode": {
    "name": "ipython",
    "version": 3
   },
   "file_extension": ".py",
   "mimetype": "text/x-python",
   "name": "python",
   "nbconvert_exporter": "python",
   "pygments_lexer": "ipython3",
   "version": "3.9.12"
  }
 },
 "nbformat": 4,
 "nbformat_minor": 5
}
