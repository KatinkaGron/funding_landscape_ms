{
 "cells": [
  {
   "cell_type": "code",
   "execution_count": 1,
   "id": "b8a54438",
   "metadata": {},
   "outputs": [
    {
     "data": {
      "text/plain": [
       "6327"
      ]
     },
     "execution_count": 1,
     "metadata": {},
     "output_type": "execute_result"
    }
   ],
   "source": [
    "#gather all data from augustinus foundation from pdf documents converted to excel sheets found through https://augustinusfonden.dk/da/uddelingslister\n",
    "\n",
    "import pandas as pd\n",
    "import numpy as np\n",
    "import re as re\n",
    "import time\n",
    "\n",
    "file_names = ([\"Uddelinger2016.xlsx\", \"Uddelinger2017.xlsx\", \"Uddelinger2018.xlsx\", \"Uddelinger2019.xlsx\", \"Uddelinger_2020.xlsx\", \"Uddelinger_2021.xlsx\", \"Uddelinger_2022.xlsx\", \"Uddelinger_2023.xlsx\"])\n",
    "\n",
    "data_frames = []\n",
    "for i in (file_names):\n",
    "    df = pd.read_excel(i, header=None, names = ([\"Receiver\", \"Description\", \"Grant size (DKK)\", \"Project Subcategory\", \"Project Category\", \"Year\"]), index_col = None)\n",
    "    data_frames.append(df)\n",
    "    \n",
    "combined_data = pd.concat(data_frames)\n",
    "combined_data.to_csv(\"all_augustinus_grant.csv\")\n",
    "len(combined_data)  #6327 Data entries"
   ]
  },
  {
   "cell_type": "code",
   "execution_count": null,
   "id": "ce7f8359",
   "metadata": {},
   "outputs": [],
   "source": []
  }
 ],
 "metadata": {
  "kernelspec": {
   "display_name": "Python 3 (ipykernel)",
   "language": "python",
   "name": "python3"
  },
  "language_info": {
   "codemirror_mode": {
    "name": "ipython",
    "version": 3
   },
   "file_extension": ".py",
   "mimetype": "text/x-python",
   "name": "python",
   "nbconvert_exporter": "python",
   "pygments_lexer": "ipython3",
   "version": "3.9.12"
  }
 },
 "nbformat": 4,
 "nbformat_minor": 5
}
