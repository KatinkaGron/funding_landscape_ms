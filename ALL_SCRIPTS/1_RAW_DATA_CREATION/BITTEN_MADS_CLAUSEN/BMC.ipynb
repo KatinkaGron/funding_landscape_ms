{
 "cells": [
  {
   "cell_type": "code",
   "execution_count": 3,
   "id": "c9c5baa9",
   "metadata": {},
   "outputs": [],
   "source": [
    "#gather all data from augustinus foundation from pdf documents converted to excel sheets found through https://augustinusfonden.dk/da/uddelingslister\n",
    "import pandas as pd\n",
    "df = pd.read_excel('BMC.xlsx', names = ([\"Receiver\", \"Description\", \"Grant size (DKK)\", \"Year\"]))\n",
    "df.to_csv(\"bitten_o_madsen.csv\", index = True)"
   ]
  }
 ],
 "metadata": {
  "kernelspec": {
   "display_name": "Python 3 (ipykernel)",
   "language": "python",
   "name": "python3"
  },
  "language_info": {
   "codemirror_mode": {
    "name": "ipython",
    "version": 3
   },
   "file_extension": ".py",
   "mimetype": "text/x-python",
   "name": "python",
   "nbconvert_exporter": "python",
   "pygments_lexer": "ipython3",
   "version": "3.9.12"
  }
 },
 "nbformat": 4,
 "nbformat_minor": 5
}
