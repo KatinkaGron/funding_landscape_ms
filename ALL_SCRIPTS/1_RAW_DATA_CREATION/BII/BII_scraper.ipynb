{
 "cells": [
  {
   "cell_type": "code",
   "execution_count": 1,
   "id": "176cd62a",
   "metadata": {},
   "outputs": [],
   "source": [
    "#data from BII foundation from pdf documents converted to excel sheets found through \n",
    "#https://bii.dk/wp-content/uploads/Grant-Recipient-List-2023.pdf\n",
    "#https://bii.dk/wp-content/uploads/Grant-Recipient-List-2022.pdf\n",
    "#https://bii.dk/wp-content/uploads/Grant-recipient-list-2021-final.pdf\n",
    "\n",
    "import pandas as pd\n",
    "import numpy as np\n",
    "import time\n",
    "import re as re\n",
    "file_name = (\"BII_data.xlsx\")\n",
    "df = pd.read_excel(file_name, header=[0], index_col = None)\n",
    "df.to_csv('bii_24_sep.csv', index=True)\n"
   ]
  }
 ],
 "metadata": {
  "kernelspec": {
   "display_name": "Python 3 (ipykernel)",
   "language": "python",
   "name": "python3"
  },
  "language_info": {
   "codemirror_mode": {
    "name": "ipython",
    "version": 3
   },
   "file_extension": ".py",
   "mimetype": "text/x-python",
   "name": "python",
   "nbconvert_exporter": "python",
   "pygments_lexer": "ipython3",
   "version": "3.9.12"
  }
 },
 "nbformat": 4,
 "nbformat_minor": 5
}
